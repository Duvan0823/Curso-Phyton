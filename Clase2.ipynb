{
  "nbformat": 4,
  "nbformat_minor": 0,
  "metadata": {
    "colab": {
      "provenance": [],
      "authorship_tag": "ABX9TyNr8XQyoa/u4Bq96eU+w6io",
      "include_colab_link": true
    },
    "kernelspec": {
      "name": "python3",
      "display_name": "Python 3"
    },
    "language_info": {
      "name": "python"
    }
  },
  "cells": [
    {
      "cell_type": "markdown",
      "metadata": {
        "id": "view-in-github",
        "colab_type": "text"
      },
      "source": [
        "<a href=\"https://colab.research.google.com/github/Duvan0823/Curso-Phyton/blob/main/Clase2.ipynb\" target=\"_parent\"><img src=\"https://colab.research.google.com/assets/colab-badge.svg\" alt=\"Open In Colab\"/></a>"
      ]
    },
    {
      "cell_type": "markdown",
      "source": [
        "**CONDICIONALES Y FUNCIONES**\n",
        "\n",
        "CURSO PYTHON\n",
        "\n",
        "UNICAFAM\n",
        "\n",
        "DUVAN MELO\n",
        "\n",
        "DOCENTE: NICOLAS MOJICA"
      ],
      "metadata": {
        "id": "_IWY1hGpBU2V"
      }
    },
    {
      "cell_type": "code",
      "source": [
        "# OPERADORES DE COMPARACION\n",
        "\n",
        "\"\"\"\n",
        "== Igual\n",
        "!= Diferente\n",
        "< Menor que\n",
        "> Mayor que\n",
        "<= Menor o igual que\n",
        ">= Mayor o igual que\n",
        "\"\"\"\n"
      ],
      "metadata": {
        "id": "-l23GuQ-BaBl"
      },
      "execution_count": null,
      "outputs": []
    },
    {
      "cell_type": "markdown",
      "source": [
        "**generar un programa que determine si una persona es mayor o menos de edad**"
      ],
      "metadata": {
        "id": "7UZ8RTQ3CgrU"
      }
    },
    {
      "cell_type": "code",
      "source": [
        "edad = 18\n",
        "if edad >= 18:\n",
        "    print(\"Eres mayor de edad\")\n",
        "else:\n",
        "    print(\"Eres menor de edad\")\n",
        "\n",
        ""
      ],
      "metadata": {
        "colab": {
          "base_uri": "https://localhost:8080/"
        },
        "id": "CT7Q3WnZCm51",
        "outputId": "26db5916-a17a-4c59-f445-7b6df3777a0c"
      },
      "execution_count": 1,
      "outputs": [
        {
          "output_type": "stream",
          "name": "stdout",
          "text": [
            "Eres mayor de edad\n"
          ]
        }
      ]
    },
    {
      "cell_type": "code",
      "source": [
        "#condiciones anidadas\n",
        "nota=85\n",
        "if nota >= 60:\n",
        "  if nota >= 90:\n",
        "    print(\"alta\")\n",
        "elif nota >= 80:\n",
        "  print(\"media\")\n",
        "else:\n",
        "  print(\"baja\")\n",
        "else:\n",
        "print(\"no has aprobado\")\n",
        ""
      ],
      "metadata": {
        "colab": {
          "base_uri": "https://localhost:8080/",
          "height": 106
        },
        "id": "ku3VAESXDc0c",
        "outputId": "4bcd86cd-bb2e-4a1a-8043-de6f5e0a28f5"
      },
      "execution_count": 7,
      "outputs": [
        {
          "output_type": "error",
          "ename": "SyntaxError",
          "evalue": "invalid syntax (<ipython-input-7-8661bc50b4b2>, line 10)",
          "traceback": [
            "\u001b[0;36m  File \u001b[0;32m\"<ipython-input-7-8661bc50b4b2>\"\u001b[0;36m, line \u001b[0;32m10\u001b[0m\n\u001b[0;31m    else:\u001b[0m\n\u001b[0m    ^\u001b[0m\n\u001b[0;31mSyntaxError\u001b[0m\u001b[0;31m:\u001b[0m invalid syntax\n"
          ]
        }
      ]
    },
    {
      "cell_type": "code",
      "source": [
        "calificacion=float(input(\"introdusca su calificacion:\"))\n",
        "if calificacion >= 60:\n",
        "  print(\"aprobado\")\n",
        "else:\n",
        "  print(\"reprobado\")"
      ],
      "metadata": {
        "colab": {
          "base_uri": "https://localhost:8080/"
        },
        "id": "Lge3m_bNFWVZ",
        "outputId": "0e04cd16-c268-45d3-c355-476f6557ea68"
      },
      "execution_count": 9,
      "outputs": [
        {
          "output_type": "stream",
          "name": "stdout",
          "text": [
            "introdusca su calificacion:60\n",
            "aprobado\n"
          ]
        }
      ]
    },
    {
      "cell_type": "markdown",
      "source": [
        "Escribe un programa que clasifique la edad en diferentes categorías: Niño (0-12 años), Adolescente (13-17 años), Adulto (18-64 años) y Anciano (65 años o más)."
      ],
      "metadata": {
        "id": "kv0Ova_IG9Ry"
      }
    },
    {
      "cell_type": "code",
      "source": [
        "edades=float(input(\"ingrese su edad:\"))\n",
        "if niño <= 12:\n",
        "  print(\"niño\")\n",
        "  if adolescente <= 17:\n",
        "    print(\"adolecente\")\n",
        "    if aduelto <= 64:\n",
        "      print(\"adulto\")\n",
        "      if anciano >= 65:\n",
        "        print(\"anciano\")\n",
        "else:\n",
        "  print(\"niño\")\n",
        "\n"
      ],
      "metadata": {
        "id": "Kwn9m7baGrL4"
      },
      "execution_count": null,
      "outputs": []
    },
    {
      "cell_type": "markdown",
      "source": [
        "Escribe un programa que pida al usuario una contraseña y verifique si es correcta. La contraseña correcta es \"secreta123\"."
      ],
      "metadata": {
        "id": "cQyE2lQRKDHW"
      }
    },
    {
      "cell_type": "code",
      "source": [
        "contraseña=(input(\"introdusca su contraseña:\"))\n",
        "if contraseña == \"secreta123\":\n",
        "  print(\"aprobado\")\n",
        "else:\n",
        "  print(\"reprobado\")"
      ],
      "metadata": {
        "colab": {
          "base_uri": "https://localhost:8080/"
        },
        "id": "6JeB98VgKFY5",
        "outputId": "82702e01-9da9-4e9d-c9a2-c1362b5a2fce"
      },
      "execution_count": 18,
      "outputs": [
        {
          "output_type": "stream",
          "name": "stdout",
          "text": [
            "introdusca su contraseña:secreta123\n",
            "aprobado\n"
          ]
        }
      ]
    },
    {
      "cell_type": "markdown",
      "source": [
        "Crea un programa que lea dos números y determine cuál es mayor, cuál es menor o si ambos son iguales."
      ],
      "metadata": {
        "id": "repqUBhqLL3q"
      }
    },
    {
      "cell_type": "code",
      "source": [
        "n1=(input(\"agregue un numero:\"))\n",
        "n2=(input(\"agregue un segundo numero:\"))\n",
        "if n1 < n2:\n",
        "  print(f\"{n1} menor que {n2}\")\n",
        "if n1 > n2:\n",
        "  print(f\"{n1} mayor que {n2}\")"
      ],
      "metadata": {
        "colab": {
          "base_uri": "https://localhost:8080/"
        },
        "id": "DQ8vBuo6KqSz",
        "outputId": "5effd8af-8b29-4926-b987-a0ee9dff4402"
      },
      "execution_count": 20,
      "outputs": [
        {
          "output_type": "stream",
          "name": "stdout",
          "text": [
            "agregue un numero:5\n",
            "agregue un segundo numero:6\n",
            "5 menor que 6\n"
          ]
        }
      ]
    },
    {
      "cell_type": "markdown",
      "source": [
        "**funciones**"
      ],
      "metadata": {
        "id": "cEvvtXEkM7gA"
      }
    },
    {
      "cell_type": "code",
      "source": [
        "# y=nx+b\n",
        "# y=2x+4\n",
        "x=5\n",
        "def recta(x):\n",
        "  return (2*x)+4\n",
        "print(recta(x))\n"
      ],
      "metadata": {
        "colab": {
          "base_uri": "https://localhost:8080/"
        },
        "id": "ljWNGurXM9M4",
        "outputId": "984b2334-b98b-4f70-cad7-a0efa9b9423d"
      },
      "execution_count": 23,
      "outputs": [
        {
          "output_type": "stream",
          "name": "stdout",
          "text": [
            "14\n"
          ]
        }
      ]
    },
    {
      "cell_type": "code",
      "source": [
        "#construir una funcion que genere la suma de dos numeros\n",
        "def suma(a,b):\n",
        " return print(a+b)\n",
        "suma(4,5)\n"
      ],
      "metadata": {
        "colab": {
          "base_uri": "https://localhost:8080/"
        },
        "id": "_A5VrKLXO_Ld",
        "outputId": "427994c7-44af-47a7-cbde-80ff313594d9"
      },
      "execution_count": 27,
      "outputs": [
        {
          "output_type": "stream",
          "name": "stdout",
          "text": [
            "9\n"
          ]
        }
      ]
    },
    {
      "cell_type": "code",
      "source": [
        "# dada 2 variables a y b calcular la suma y resta de estas dos variables\n",
        "def operaciones(a, b):\n",
        "  suma=a+b\n",
        "  resta=a-b\n",
        "  return suma,resta\n",
        "suma,resta=operaciones(1,2)\n",
        "print(f\"suma:{suma},resta:{resta}\")"
      ],
      "metadata": {
        "colab": {
          "base_uri": "https://localhost:8080/"
        },
        "id": "s7BbEBNeQLcJ",
        "outputId": "5a29ac6a-6cf7-40ab-96d9-7a24dfce1c45"
      },
      "execution_count": 28,
      "outputs": [
        {
          "output_type": "stream",
          "name": "stdout",
          "text": [
            "suma:3,resta:-1\n"
          ]
        }
      ]
    },
    {
      "cell_type": "code",
      "source": [
        "# funcion que determine si un numero es par o impar y que envie un mensaje con el resultado de la validacion\n",
        "\n",
        "def determinar(numero):\n",
        "\n",
        "  RTA=numero%2\n",
        "  if RTA==1:\n",
        "    print(\"El número digitado es impar\")\n",
        "  else:\n",
        "    print(\"El número digitado es par\")\n",
        "\n",
        "numeros=int(input(\"Digita un número: \"))\n",
        "determinar(numeros)\n"
      ],
      "metadata": {
        "colab": {
          "base_uri": "https://localhost:8080/"
        },
        "id": "U5dB_mAdRpQ_",
        "outputId": "a38cff3c-6e72-40c4-adec-a8acb93f0fd9"
      },
      "execution_count": 31,
      "outputs": [
        {
          "output_type": "stream",
          "name": "stdout",
          "text": [
            "Digita un número: 6\n",
            "El número digitado es par\n"
          ]
        }
      ]
    },
    {
      "cell_type": "code",
      "source": [],
      "metadata": {
        "id": "U_b1o123SSE8"
      },
      "execution_count": null,
      "outputs": []
    }
  ]
}