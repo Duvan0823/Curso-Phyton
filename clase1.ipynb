{
  "nbformat": 4,
  "nbformat_minor": 0,
  "metadata": {
    "colab": {
      "provenance": [],
      "authorship_tag": "ABX9TyN4nzfGzsProwZZf+YbzGLq",
      "include_colab_link": true
    },
    "kernelspec": {
      "name": "python3",
      "display_name": "Python 3"
    },
    "language_info": {
      "name": "python"
    }
  },
  "cells": [
    {
      "cell_type": "markdown",
      "metadata": {
        "id": "view-in-github",
        "colab_type": "text"
      },
      "source": [
        "<a href=\"https://colab.research.google.com/github/Duvan0823/Curso-Phyton/blob/main/clase1.ipynb\" target=\"_parent\"><img src=\"https://colab.research.google.com/assets/colab-badge.svg\" alt=\"Open In Colab\"/></a>"
      ]
    },
    {
      "cell_type": "markdown",
      "source": [
        "**INTRODUCCION A PYTHON**\n",
        "\n",
        "CURSO PYTHON\n",
        "\n",
        "UNICAFAM\n",
        "\n",
        "DUVAN MELO\n",
        "\n",
        "DOCENTE: NICOLAS MOJICA\n",
        "\n",
        "\n",
        "\n",
        "---\n",
        "\n",
        "\n"
      ],
      "metadata": {
        "id": "SGExX9drAK8k"
      }
    },
    {
      "cell_type": "markdown",
      "source": [],
      "metadata": {
        "id": "nV3cBSKv8xEA"
      }
    },
    {
      "cell_type": "code",
      "source": [
        "# PARA PODER HACER COMENTARIOS DEBO USAR UN #\n",
        "print(\"Hola mundo\")"
      ],
      "metadata": {
        "colab": {
          "base_uri": "https://localhost:8080/"
        },
        "id": "uCMKQAS_DvhM",
        "outputId": "1d08813f-ddb2-411a-a39a-bfa0ea811f99"
      },
      "execution_count": null,
      "outputs": [
        {
          "output_type": "stream",
          "name": "stdout",
          "text": [
            "Hola mundo\n"
          ]
        }
      ]
    },
    {
      "cell_type": "code",
      "source": [
        "# PARA INSERTAR COMENTARIOS DE MAS DE DOS LINEAS SE USA \"\"\n",
        "\"\"\"\n",
        "ESTE\n",
        "UN COMENTARIO\n",
        "DE VARIAS LINEAS\n",
        "\"\"\"\n",
        "print(\"hola mundo\")"
      ],
      "metadata": {
        "colab": {
          "base_uri": "https://localhost:8080/"
        },
        "id": "QI46QJSpEXPT",
        "outputId": "a7f065c9-210c-4d2f-d73b-bb20da511821"
      },
      "execution_count": null,
      "outputs": [
        {
          "output_type": "stream",
          "name": "stdout",
          "text": [
            "hola mundo\n"
          ]
        }
      ]
    },
    {
      "cell_type": "markdown",
      "source": [
        "**VARIABLES**"
      ],
      "metadata": {
        "id": "YDYndRyfFEaW"
      }
    },
    {
      "cell_type": "code",
      "source": [
        "# UNA VARIBLE SOLO SE DEBE NOMBRAR SIN CARACTERES ESPECIALES, SIN ESPACION, SIN MINUSCULAS\n",
        "var=\"hola mundo\"\n",
        "print(var)"
      ],
      "metadata": {
        "colab": {
          "base_uri": "https://localhost:8080/"
        },
        "id": "tO6BWT5AGMpB",
        "outputId": "da18f658-a419-456b-9b3a-8d0ed330f11f"
      },
      "execution_count": null,
      "outputs": [
        {
          "output_type": "stream",
          "name": "stdout",
          "text": [
            "hola mundo\n"
          ]
        }
      ]
    },
    {
      "cell_type": "code",
      "source": [
        "var=\"adios mundo\"\n",
        "print(var)"
      ],
      "metadata": {
        "colab": {
          "base_uri": "https://localhost:8080/"
        },
        "id": "bEU25ux-Ge5a",
        "outputId": "22b6c7cd-1f4e-4dcb-d4d6-c3977a5415a3"
      },
      "execution_count": null,
      "outputs": [
        {
          "output_type": "stream",
          "name": "stdout",
          "text": [
            "adios mundo\n"
          ]
        }
      ]
    },
    {
      "cell_type": "markdown",
      "source": [
        "**TIPOS DE DATOS**"
      ],
      "metadata": {
        "id": "xRk4iyhsG6PZ"
      }
    },
    {
      "cell_type": "code",
      "source": [
        "entero=42"
      ],
      "metadata": {
        "id": "iPbsQ5ANGz05"
      },
      "execution_count": null,
      "outputs": []
    },
    {
      "cell_type": "code",
      "source": [
        "flotante=3.14159"
      ],
      "metadata": {
        "id": "mm46FyOUHP_T"
      },
      "execution_count": null,
      "outputs": []
    },
    {
      "cell_type": "code",
      "source": [
        "# CONVERSION DE TIPOS DE DATOS\n",
        "entero=int(3.141559)# la respuesta es 3\n",
        "flotante=float(5)# la respuesta es 5.0"
      ],
      "metadata": {
        "id": "j5cvROBAHfNB"
      },
      "execution_count": null,
      "outputs": []
    },
    {
      "cell_type": "markdown",
      "source": [
        "**OPERADORES MATEMATICOS**"
      ],
      "metadata": {
        "id": "c-e357qt7USb"
      }
    },
    {
      "cell_type": "code",
      "source": [
        "a=2\n",
        "b=4\n",
        "#SUMA\n",
        "print(a+b)#el resultado es = 6\n",
        "\n",
        "# RESTA\n",
        "print(b-a)# el resultado es = 2\n",
        "\n",
        "# DIVISION\n",
        "C=b/a # la respuesta es = 2\n",
        "print(C)\n",
        "\n",
        "# DIVISION ENTERA\n",
        "d=3\n",
        "print(d//a)\n",
        "\n",
        "#EXPONENCIACION\n",
        "print(a**5)\n",
        "\n",
        "#MODULO\n",
        "print(d%a)\n",
        "\n",
        "#ASIGNACION DE COMPUESTO\n",
        "a+=b\n",
        "print(a)\n",
        "a=2\n",
        "\n",
        "#REDONDEO\n",
        "e=3.14159\n",
        "print(round(e,2))\n",
        "\n",
        "#VALOR ABSOLUTO\n",
        "f=a-b\n",
        "print(abs(f))\n",
        "\n",
        "\n",
        "\n",
        "\n",
        "\n"
      ],
      "metadata": {
        "colab": {
          "base_uri": "https://localhost:8080/"
        },
        "id": "V7Xalq597ace",
        "outputId": "9f3dc17e-c32e-4674-84a4-8017c89c92eb"
      },
      "execution_count": null,
      "outputs": [
        {
          "output_type": "stream",
          "name": "stdout",
          "text": [
            "6\n",
            "2\n",
            "2.0\n",
            "1\n",
            "32\n",
            "1\n",
            "6\n",
            "3.14\n",
            "2\n"
          ]
        }
      ]
    },
    {
      "cell_type": "markdown",
      "source": [
        "**TEXTOS**"
      ],
      "metadata": {
        "id": "QvqBYbYE_k-5"
      }
    },
    {
      "cell_type": "code",
      "source": [
        "#CONCATENACION DE LOS CARACTERES\n",
        "SALUDO=\"hola\"\n",
        "nombre= \"mundo\"\n",
        "mensaje=SALUDO+\", \"+nombre\n",
        "print(mensaje)"
      ],
      "metadata": {
        "colab": {
          "base_uri": "https://localhost:8080/"
        },
        "id": "PtC3hrrP9AZJ",
        "outputId": "9cf741d0-9d0b-44b6-9e4a-5f8f8192a97d"
      },
      "execution_count": null,
      "outputs": [
        {
          "output_type": "stream",
          "name": "stdout",
          "text": [
            "hola, mundo\n"
          ]
        }
      ]
    },
    {
      "cell_type": "code",
      "source": [
        "#REPETICION DE CARACTERES\n",
        "REPETIDO=SALUDO*3\n",
        "print(REPETIDO)"
      ],
      "metadata": {
        "colab": {
          "base_uri": "https://localhost:8080/"
        },
        "id": "QFy_X5nMAjsX",
        "outputId": "f0f19a29-6cab-4a83-c75c-661b25bf7635"
      },
      "execution_count": null,
      "outputs": [
        {
          "output_type": "stream",
          "name": "stdout",
          "text": [
            "holaholahola\n"
          ]
        }
      ]
    },
    {
      "cell_type": "code",
      "source": [
        "from re import sub\n",
        "#INDEXACION\n",
        "#OBTENER UNA VARIABLE QUE CONTENGA EL PRIMER CARACTER DE LA VARIABLE SALUDO\n",
        "primer_caracter=SALUDO[0]\n",
        "print(primer_caracter)\n",
        "\n",
        "#GENERE NUEVA VARIABLE DONDE EXTRAIGA LA PALABRA HOLA\n",
        "subcadena=mensaje[0:4]\n",
        "print(subcadena)\n",
        "\n",
        "\n"
      ],
      "metadata": {
        "collapsed": true,
        "id": "Wf_SBhWoAtfw"
      },
      "execution_count": null,
      "outputs": []
    },
    {
      "cell_type": "code",
      "source": [
        "# mayusculas\n",
        "\n",
        "cadena = 'Python es genial'\n",
        "print(cadena.upper())\n",
        "\n",
        "# minuscula\n",
        "\n",
        "print(cadena.lower())\n",
        "\n",
        "#remplazo\n",
        "print(cadena.replace('genial','increible'))\n",
        "\n",
        "#ceparar al cadena (ceparar)\n",
        "print(cadena.split(' '))\n",
        "\n",
        "print(cadena[0])\n",
        "\n",
        "cadena_separado = cadena.split(' ')\n",
        "print(cadena_separado[0])"
      ],
      "metadata": {
        "colab": {
          "base_uri": "https://localhost:8080/"
        },
        "id": "KhNgMJ0EEs1g",
        "outputId": "9f8b2aa1-6c3e-4e7a-ad11-a1caa12677f2"
      },
      "execution_count": null,
      "outputs": [
        {
          "output_type": "stream",
          "name": "stdout",
          "text": [
            "PYTHON ES GENIAL\n",
            "python es genial\n",
            "Python es increible\n",
            "['Python', 'es', 'genial']\n",
            "P\n",
            "Python\n"
          ]
        }
      ]
    },
    {
      "cell_type": "markdown",
      "source": [
        "**ESCRITURA DE DATOS**"
      ],
      "metadata": {
        "id": "7C8Fk0TiE2mz"
      }
    },
    {
      "cell_type": "code",
      "source": [
        "#las listas son las estructuras de datos mas usadas por su flexibilidad y facilidad\n",
        "lista = [1, 2, 3, \"cuatro\", 5.0]\n",
        "#MODIFICAR ELEMENTOS DE LA LISTA\n",
        "lista[3]=4\n",
        "print(lista)\n",
        "\n",
        "#insertar elementos\n",
        "#con una posicion determinada\n",
        "lista.insert(3,3.3)\n",
        "print(lista)\n",
        "\n",
        "#remover elementos de una lista\n",
        "lista.remove(5.0)\n",
        "print(lista)"
      ],
      "metadata": {
        "colab": {
          "base_uri": "https://localhost:8080/"
        },
        "id": "-C6tCA9CE67d",
        "outputId": "5b8f77d3-f913-4105-a71e-74bf3a867021"
      },
      "execution_count": null,
      "outputs": [
        {
          "output_type": "stream",
          "name": "stdout",
          "text": [
            "[1, 2, 3, 4, 5.0]\n",
            "[1, 2, 3, 3.3, 4, 5.0]\n",
            "[1, 2, 3, 3.3, 4]\n"
          ]
        }
      ]
    },
    {
      "cell_type": "markdown",
      "source": [
        "**diccionario de datos**"
      ],
      "metadata": {
        "id": "vfId6_Y68yuS"
      }
    },
    {
      "cell_type": "code",
      "source": [
        "#los diccionarios se identifican con el cirre de {} y la variable ontenida dentro de la etiqueta de la variable\n",
        "\n",
        "mi_diccionario = {\n",
        "    \"nombre\": \"duvan\",\n",
        "    \"edad\": 30,\n",
        "    \"ciudad\": \"bogota\"\n",
        "\n",
        "}\n",
        "# llamar la variable nombre\n",
        "print(mi_diccionario[\"nombre\"])\n",
        "\n",
        "#modificacion de diccionarios\n",
        "mi_diccionario[\"nombre\"]=\"jack\"\n",
        "print(mi_diccionario)\n",
        "\n",
        "#añadir elemento en el diccionario\n",
        "mi_diccionario[\"profesion\"]=\"ingeniero industrial\"\n",
        "print(mi_diccionario)\n",
        "\n",
        "#eliminar o remover elementos\n",
        "mi_diccionario[\"edad\"]\n",
        "print(mi_diccionario)\n"
      ],
      "metadata": {
        "id": "t2DvsyMAHCsU",
        "colab": {
          "base_uri": "https://localhost:8080/"
        },
        "outputId": "b3891c47-1d99-48da-db11-33c12237e30f"
      },
      "execution_count": 4,
      "outputs": [
        {
          "output_type": "stream",
          "name": "stdout",
          "text": [
            "duvan\n",
            "{'nombre': 'jack', 'edad': 30, 'ciudad': 'bogota'}\n"
          ]
        }
      ]
    },
    {
      "cell_type": "code",
      "source": [],
      "metadata": {
        "id": "IyUBKw0C_LhV"
      },
      "execution_count": null,
      "outputs": []
    }
  ]
}