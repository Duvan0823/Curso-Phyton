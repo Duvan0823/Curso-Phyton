{
  "nbformat": 4,
  "nbformat_minor": 0,
  "metadata": {
    "colab": {
      "provenance": []
    },
    "kernelspec": {
      "name": "python3",
      "display_name": "Python 3"
    },
    "language_info": {
      "name": "python"
    }
  },
  "cells": [
    {
      "cell_type": "markdown",
      "source": [
        "Esto es una prueba"
      ],
      "metadata": {
        "id": "SGExX9drAK8k"
      }
    },
    {
      "cell_type": "code",
      "execution_count": null,
      "metadata": {
        "id": "T8pxmLA167Cg"
      },
      "outputs": [],
      "source": []
    }
  ]
}