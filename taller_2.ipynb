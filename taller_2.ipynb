{
  "nbformat": 4,
  "nbformat_minor": 0,
  "metadata": {
    "colab": {
      "provenance": [],
      "authorship_tag": "ABX9TyO3oS8xNbqlLc4JoJrKdqGG",
      "include_colab_link": true
    },
    "kernelspec": {
      "name": "python3",
      "display_name": "Python 3"
    },
    "language_info": {
      "name": "python"
    }
  },
  "cells": [
    {
      "cell_type": "markdown",
      "metadata": {
        "id": "view-in-github",
        "colab_type": "text"
      },
      "source": [
        "<a href=\"https://colab.research.google.com/github/Duvan0823/Curso-Phyton/blob/main/taller_2.ipynb\" target=\"_parent\"><img src=\"https://colab.research.google.com/assets/colab-badge.svg\" alt=\"Open In Colab\"/></a>"
      ]
    },
    {
      "cell_type": "markdown",
      "source": [
        "**TALLER 2**\n",
        "\n",
        "CURSO DE PYTHON\n",
        "\n",
        "DIRECCION DE EDUCACIÓN CONTINUA\n",
        "\n",
        "FUNDACION UNIVERSITARIA CAFAM\n",
        "\n",
        "DOCENTE: NICOLAS MOJICA GOMEZ\n",
        "\n",
        "ESTUDIANTE: **DUVAN MELO MAHECHA**"
      ],
      "metadata": {
        "id": "duvr_XJxUlvF"
      }
    },
    {
      "cell_type": "markdown",
      "source": [
        ". Cálculo del salario neto:\n",
        "Crea una función llamada calcular_salario_neto que reciba como parámetros el salario bruto\n",
        "de un empleado y el porcentaje de impuestos. La función debe devolver el salario neto.\n"
      ],
      "metadata": {
        "id": "Va_soXpsYHoB"
      }
    },
    {
      "cell_type": "code",
      "execution_count": 5,
      "metadata": {
        "colab": {
          "base_uri": "https://localhost:8080/"
        },
        "id": "epYyoJg9Uj8z",
        "outputId": "6bde24ff-3f76-4836-c53f-a4d502682db6"
      },
      "outputs": [
        {
          "output_type": "stream",
          "name": "stdout",
          "text": [
            "Introduce el salario bruto: 1300000\n",
            "Introduce el porcentaje de impuestos: 10\n",
            "El salario neto es: 1170000.00\n"
          ]
        }
      ],
      "source": [
        "def calcular_salario_neto(salario_bruto, porcentaje_impuestos):\n",
        "    impuestos = salario_bruto * (porcentaje_impuestos / 100)\n",
        "    salario_neto = salario_bruto - impuestos\n",
        "    return salario_neto\n",
        "\n",
        "salario_bruto = float(input(\"Introduce el salario bruto: \"))\n",
        "porcentaje_impuestos = float(input(\"Introduce el porcentaje de impuestos: \"))\n",
        "\n",
        "salario_neto = calcular_salario_neto(salario_bruto, porcentaje_impuestos)\n",
        "print(f\"El salario neto es: {salario_neto:.2f}\")\n",
        "\n"
      ]
    },
    {
      "cell_type": "markdown",
      "source": [
        "**Calcular el precio final con descuentos:\n",
        "Diseña una función calcular_precio_final que reciba el precio de un producto y el porcentaje\n",
        "de descuento.**"
      ],
      "metadata": {
        "id": "nN9DE5NjY814"
      }
    },
    {
      "cell_type": "code",
      "source": [
        "def calcular_precio_final(precio, porcentaje_de_descuento):\n",
        "    descuento = precio * (porcentaje_de_descuento / 100)\n",
        "    precio_neto = precio - porcentaje_de_descuento\n",
        "    return salario_neto\n",
        "\n",
        "precio = float(input(\"Introduce el precio: \"))\n",
        "porcentaje_de_descuento = float(input(\"Introduce el porcentaje de descuento: \"))\n",
        "\n",
        "salario_neto = calcular_salario_neto(precio, porcentaje_de_descuento)\n",
        "print(f\"calcular_precio_final: {calcular_precio_final:.2f}\")"
      ],
      "metadata": {
        "id": "jHM3umUfU23M"
      },
      "execution_count": null,
      "outputs": []
    },
    {
      "cell_type": "markdown",
      "source": [
        "Simulación de envío de paquetes:\n",
        "\n",
        "Escribe una función calcular_costo_envio que reciba el peso de un paquete y la distancia de\n",
        "envío, y devuelva el costo según estas reglas:\n",
        "\n",
        "Menos de 5 kg: $10 por cada 100 km.\n",
        "\n",
        "Entre 5 y 20 kg: $15 por cada 100 km.\n",
        "\n",
        "Más de 20 kg: $25 por cada 100 km."
      ],
      "metadata": {
        "id": "oqHoyymybGFC"
      }
    },
    {
      "cell_type": "code",
      "source": [
        "def calcular_costo_envio(peso, distancia):\n",
        "    if peso < 5:\n",
        "        costo = 10 *(distancia / 100)\n",
        "    elif peso <= 20:\n",
        "        costo = 15 * (distancia / 100)\n",
        "    else:\n",
        "        costo = 25 * (distancia / 100)\n",
        "    return costo\n",
        "    costo = calcular_costo_envio(peso, distancia)\n",
        "    print(f\"El costo de envío es: {costo:.2f}\")\n",
        "\n",
        "\n"
      ],
      "metadata": {
        "id": "EaIADSf1U56N"
      },
      "execution_count": 31,
      "outputs": []
    },
    {
      "cell_type": "markdown",
      "source": [
        "**Verificar si un cliente califica para un crédito:\n",
        "\n",
        "Crea una función calificar_credito que reciba el ingreso mensual y los gastos mensuales de una persona. Si el ahorro (ingreso - gastos) es mayor al 30% del ingreso, devuelve True. De lo contrario, devuelve False.**\n"
      ],
      "metadata": {
        "id": "uqmRE-xLbxex"
      }
    },
    {
      "cell_type": "code",
      "source": [
        "def calificar_credito(ingreso, gastos):\n",
        "    ahorro = ingreso - gastos\n",
        "    if ahorro >= 30 * ingreso:\n",
        "        return True\n",
        "    else:\n",
        "        return False"
      ],
      "metadata": {
        "id": "vvTSsBPgb9Vh"
      },
      "execution_count": 30,
      "outputs": []
    },
    {
      "cell_type": "markdown",
      "source": [
        "#Calcular el total de una factura:\n",
        "Diseña una función calcular_factura que reciba una lista de precios de productos y devuelva\n",
        "el total, incluyendo un impuesto del 16%"
      ],
      "metadata": {
        "id": "NaUlRcwdeE1r"
      }
    },
    {
      "cell_type": "code",
      "source": [
        "def calcular_factura(precios):\n",
        "    total = sum(precios)\n",
        "    impuesto = total * 0.16\n",
        "    total_con_impuesto = total + impuesto\n",
        "    return total_con_impuesto"
      ],
      "metadata": {
        "id": "ZJDc_pUeU_GB"
      },
      "execution_count": 20,
      "outputs": []
    }
  ]
}