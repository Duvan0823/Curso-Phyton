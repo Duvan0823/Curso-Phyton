{
  "nbformat": 4,
  "nbformat_minor": 0,
  "metadata": {
    "colab": {
      "provenance": []
    },
    "kernelspec": {
      "name": "python3",
      "display_name": "Python 3"
    },
    "language_info": {
      "name": "python"
    }
  },
  "cells": [
    {
      "cell_type": "markdown",
      "source": [
        "**INTRODUCCION A PYTHON**\n",
        "\n",
        "CURSO PYTHON\n",
        "\n",
        "UNICAFAM\n",
        "\n",
        "DUVAN MELO\n",
        "\n",
        "DOCENTE: NICOLAS MOJICA\n",
        "\n",
        "\n",
        "\n",
        "---\n",
        "\n",
        "\n"
      ],
      "metadata": {
        "id": "SGExX9drAK8k"
      }
    },
    {
      "cell_type": "code",
      "source": [
        "# PARA PODER HACER COMENTARIOS DEBO USAR UN #\n",
        "print(\"Hola mundo\")"
      ],
      "metadata": {
        "colab": {
          "base_uri": "https://localhost:8080/"
        },
        "id": "uCMKQAS_DvhM",
        "outputId": "1d08813f-ddb2-411a-a39a-bfa0ea811f99"
      },
      "execution_count": 2,
      "outputs": [
        {
          "output_type": "stream",
          "name": "stdout",
          "text": [
            "Hola mundo\n"
          ]
        }
      ]
    },
    {
      "cell_type": "code",
      "source": [
        "# PARA INSERTAR COMENTARIOS DE MAS DE DOS LINEAS SE USA \"\"\n",
        "\"\"\"\n",
        "ESTE\n",
        "UN COMENTARIO\n",
        "DE VARIAS LINEAS\n",
        "\"\"\"\n",
        "print(\"hola mundo\")"
      ],
      "metadata": {
        "colab": {
          "base_uri": "https://localhost:8080/"
        },
        "id": "QI46QJSpEXPT",
        "outputId": "a7f065c9-210c-4d2f-d73b-bb20da511821"
      },
      "execution_count": 3,
      "outputs": [
        {
          "output_type": "stream",
          "name": "stdout",
          "text": [
            "hola mundo\n"
          ]
        }
      ]
    },
    {
      "cell_type": "markdown",
      "source": [
        "**VARIABLES**"
      ],
      "metadata": {
        "id": "YDYndRyfFEaW"
      }
    },
    {
      "cell_type": "code",
      "source": [
        "# UNA VARIBLE SOLO SE DEBE NOMBRAR SIN CARACTERES ESPECIALES, SIN ESPACION, SIN MINUSCULAS\n",
        "var=\"hola mundo\"\n",
        "print(var)"
      ],
      "metadata": {
        "colab": {
          "base_uri": "https://localhost:8080/"
        },
        "id": "tO6BWT5AGMpB",
        "outputId": "da18f658-a419-456b-9b3a-8d0ed330f11f"
      },
      "execution_count": 5,
      "outputs": [
        {
          "output_type": "stream",
          "name": "stdout",
          "text": [
            "hola mundo\n"
          ]
        }
      ]
    },
    {
      "cell_type": "code",
      "source": [
        "var=\"adios mundo\"\n",
        "print(var)"
      ],
      "metadata": {
        "colab": {
          "base_uri": "https://localhost:8080/"
        },
        "id": "bEU25ux-Ge5a",
        "outputId": "22b6c7cd-1f4e-4dcb-d4d6-c3977a5415a3"
      },
      "execution_count": 6,
      "outputs": [
        {
          "output_type": "stream",
          "name": "stdout",
          "text": [
            "adios mundo\n"
          ]
        }
      ]
    },
    {
      "cell_type": "markdown",
      "source": [
        "**TIPOS DE DATOS**"
      ],
      "metadata": {
        "id": "xRk4iyhsG6PZ"
      }
    },
    {
      "cell_type": "code",
      "source": [
        "entero=42"
      ],
      "metadata": {
        "id": "iPbsQ5ANGz05"
      },
      "execution_count": 7,
      "outputs": []
    },
    {
      "cell_type": "code",
      "source": [
        "flotante=3.14159"
      ],
      "metadata": {
        "id": "mm46FyOUHP_T"
      },
      "execution_count": 8,
      "outputs": []
    },
    {
      "cell_type": "code",
      "source": [
        "# CONVERSION DE TIPOS DE DATOS\n",
        "entero=int(3.141559)# la respuesta es 3\n",
        "flotante=float(5)# la respuesta es 5.0"
      ],
      "metadata": {
        "id": "j5cvROBAHfNB"
      },
      "execution_count": null,
      "outputs": []
    }
  ]
}